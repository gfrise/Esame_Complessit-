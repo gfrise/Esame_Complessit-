{
 "cells": [
  {
   "cell_type": "markdown",
   "id": "726a9128-4696-4ba3-b452-7df7e400d557",
   "metadata": {},
   "source": [
    "# Esame del 21 Luglio 2025\n",
    "### Francesco Cusenza - 0780292"
   ]
  },
  {
   "cell_type": "code",
   "execution_count": null,
   "id": "3d38ab98-4b38-4e02-a7f9-6bd463c7fc39",
   "metadata": {},
   "outputs": [],
   "source": [
    "import numpy as np\n",
    "from numpy.linalg import eig #codice esame 21 luglio"
   ]
  },
  {
   "cell_type": "code",
   "execution_count": 2,
   "id": "01965af5-af9c-4f98-8b28-6ead28af6b41",
   "metadata": {},
   "outputs": [
    {
     "name": "stdout",
     "output_type": "stream",
     "text": [
      "CATENA DI MARKOV:\n",
      "[[   0.    1.]\n",
      " [   1.    2.]\n",
      " [   2.    1.]\n",
      " ...\n",
      " [ 998.    1.]\n",
      " [ 999.    1.]\n",
      " [1000.    2.]]\n"
     ]
    }
   ],
   "source": [
    "x = np.loadtxt(\"markov_chain.dat\")\n",
    "print(f'CATENA DI MARKOV:\\n{x}')\n",
    "\n",
    "states = np.array(x[:,1], dtype=int)\n",
    "states = states - 1 # Cosi' partono da 0\n",
    "N = 3 # Numero stati"
   ]
  },
  {
   "cell_type": "code",
   "execution_count": null,
   "id": "bdbd449d-ae90-42df-b6ee-85b3c99f0282",
   "metadata": {},
   "outputs": [
    {
     "name": "stdout",
     "output_type": "stream",
     "text": [
      "MATRICE DI TRANSIZIONE:\n",
      "[[0.506      0.242      0.252     ]\n",
      " [0.53846154 0.10121457 0.36032389]\n",
      " [0.44664032 0.40316206 0.15019763]]\n"
     ]
    }
   ],
   "source": [
    "# Stima matrice di transizione\n",
    "trans = np.zeros((N, N), dtype=int)\n",
    "\n",
    "for t in range(len(states)-1):\n",
    "    i = states[t]\n",
    "    j = states[t+1]\n",
    "    trans[i,j] += 1\n",
    "\n",
    "P = trans / trans.sum(axis=1, keepdims=True) # Normalizzazione\n",
    "print(f'MATRICE DI TRANSIZIONE:\\n{P}')"
   ]
  },
  {
   "cell_type": "code",
   "execution_count": 4,
   "id": "6495c578-0579-4f6d-a72c-135f8dc6d4c9",
   "metadata": {},
   "outputs": [
    {
     "name": "stdout",
     "output_type": "stream",
     "text": [
      "AUTOVALORI:\n",
      "[ 1.          0.01226365 -0.25485145]\n",
      "AUTOVETTORI (colonne):\n",
      "[[ 0.57735027  0.558766   -0.01282106]\n",
      " [ 0.57735027 -0.3640941  -0.70159328]\n",
      " [ 0.57735027 -0.74512821  0.71246228]]\n"
     ]
    }
   ],
   "source": [
    "# Calcolo di autovalori e auovettori\n",
    "eigvals, eigvec = np.linalg.eig(P)\n",
    "print(f'AUTOVALORI:\\n{eigvals}\\nAUTOVETTORI (colonne):\\n{eigvec}')"
   ]
  },
  {
   "cell_type": "code",
   "execution_count": 5,
   "id": "d30393b9-3c65-414d-8245-ca930f424d4a",
   "metadata": {},
   "outputs": [
    {
     "name": "stdout",
     "output_type": "stream",
     "text": [
      "AUTOVALORI ORDINATI:\n",
      "[1.         0.25485145 0.01226365]\n",
      "Il secondo autovalore determina la convergenza alla stazionarietà\n"
     ]
    }
   ],
   "source": [
    "sort_eigvals = np.sort(np.abs(eigvals))[::-1] # Mettono in ordine di modulo decrescente gli autovalori\n",
    "print(f'AUTOVALORI ORDINATI:\\n{sort_eigvals}')\n",
    "print(f'Il secondo autovalore determina la convergenza alla stazionarietà')"
   ]
  },
  {
   "cell_type": "code",
   "execution_count": 6,
   "id": "8430468d-a1b2-41f8-baf7-92d8b4608946",
   "metadata": {},
   "outputs": [
    {
     "name": "stdout",
     "output_type": "stream",
     "text": [
      "STAZIONARIETA':\n",
      "[[0.49902367]\n",
      " [0.24788894]\n",
      " [0.2530874 ]]\n",
      "L 'autovettore associato al primo autovalore (1) corrisponde alla distribuzione di probabilità in cui convergerà il processo stocastico\n",
      "Si nota che al passo t->inf gli stati non sono equiprobabili, poichè in la matrice di transizione è asimetrica, in particolare favorisce lo stato 1\n"
     ]
    }
   ],
   "source": [
    "# Determinazione stato stazionario\n",
    "eigvalsT, eigvecT = np.linalg.eig(P.T) # Autovalori e autovettori della matrice trasposta, poichè pi_staz.T = P.T x pi_staz.T\n",
    "stationarity = eigvecT[:, np.isclose(eigvalsT, 1)].real # Prendo la parte reale dell'autovettore associato ad 1\n",
    "stationarity /= np.sum(stationarity) # Normalizzo l'autovettore associato ad 1\n",
    "print(f'STAZIONARIETA\\':\\n{stationarity}')\n",
    "print(f'L \\'autovettore associato al primo autovalore (1) corrisponde alla distribuzione di probabilità in cui convergerà il processo stocastico\\nSi nota che al passo t->inf gli stati non sono equiprobabili, poichè in la matrice di transizione è asimetrica, in particolare favorisce lo stato 1')"
   ]
  },
  {
   "cell_type": "code",
   "execution_count": 7,
   "id": "9b4b0949-6954-4097-ae93-cb7d3854870d",
   "metadata": {},
   "outputs": [
    {
     "name": "stdout",
     "output_type": "stream",
     "text": [
      "Check pi_staz = pi_staz x P: True\n",
      "Check pi_staz.T = P.T x pi_staz.T: True\n"
     ]
    }
   ],
   "source": [
    "# Controllo sul vettore stazionarietà, deve valere anche pi_staz = pi_staz x P\n",
    "print(\"Check pi_staz = pi_staz x P:\", np.allclose(stationarity.T @ P, stationarity.T))\n",
    "print(\"Check pi_staz.T = P.T x pi_staz.T:\", np.allclose(P.T @ stationarity, stationarity))"
   ]
  }
 ],
 "metadata": {
  "kernelspec": {
   "display_name": "Python 3 (ipykernel)",
   "language": "python",
   "name": "python3"
  },
  "language_info": {
   "codemirror_mode": {
    "name": "ipython",
    "version": 3
   },
   "file_extension": ".py",
   "mimetype": "text/x-python",
   "name": "python",
   "nbconvert_exporter": "python",
   "pygments_lexer": "ipython3",
   "version": "3.13.2"
  }
 },
 "nbformat": 4,
 "nbformat_minor": 5
}

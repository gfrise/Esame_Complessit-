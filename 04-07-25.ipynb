{
 "cells": [
  {
   "cell_type": "markdown",
   "id": "1afae0ac-ae87-458d-8a2a-bea005af5d9e",
   "metadata": {},
   "source": [
    "## 04-07-25\n",
    "Creare OU con gamma=0.1 e T=10^5 con metodologia time-average. Poi fare lo stesso con metodologia ensemble-average e valutare quando per lag tau=30 hanno ac comparabile"
   ]
  },
  {
   "cell_type": "code",
   "execution_count": 1,
   "id": "80872b4d-0cfa-4784-895b-a87a1b3790ae",
   "metadata": {},
   "outputs": [],
   "source": [
    "import numpy as np\n",
    "import matplotlib.pyplot as plt"
   ]
  },
  {
   "cell_type": "code",
   "execution_count": 2,
   "id": "ff7aaa5a-fb5d-429d-baff-abb8e73c1995",
   "metadata": {},
   "outputs": [],
   "source": [
    "def ac_time_average(x, tau):\n",
    "    T = len(x)\n",
    "    mean = np.mean(x)\n",
    "    var = np.var(x)\n",
    "\n",
    "    prod = (x[:T-tau]-mean)*(x[tau:]-mean)\n",
    "    ac = np.mean(prod)/var\n",
    "\n",
    "    return ac"
   ]
  },
  {
   "cell_type": "code",
   "execution_count": 11,
   "id": "b196d475-72fb-44d3-b22f-78624f01b9e3",
   "metadata": {},
   "outputs": [
    {
     "name": "stdout",
     "output_type": "stream",
     "text": [
      "L'autocorrelazione time-average è: 0.0250882\n"
     ]
    }
   ],
   "source": [
    "T_tot = 10**5\n",
    "dt = 1\n",
    "T = int(T_tot/dt)\n",
    "tau = 30\n",
    "\n",
    "# Time-Average\n",
    "x = np.zeros(T)\n",
    "x[0] = 0.1\n",
    "\n",
    "mu = 0.0 # Media\n",
    "sigma = 1.0 # Intensità rumore\n",
    "gamma = 0.1 # Forza di richiamo\n",
    "\n",
    "np.random.seed(17)\n",
    "\n",
    "for t in range(1,T):\n",
    "    noise = np.random.normal(0, np.sqrt(2*dt))\n",
    "    x[t] = x[t-1] - gamma*dt*(x[t-1]-mu) + sigma*noise\n",
    "\n",
    "ac_time = ac_time_average(x, tau)\n",
    "\n",
    "print(f\"L'autocorrelazione time-average è: {ac_time:.6}\")"
   ]
  },
  {
   "cell_type": "code",
   "execution_count": 12,
   "id": "79645e3b-ad6f-437a-ab3e-649717ace2b0",
   "metadata": {},
   "outputs": [],
   "source": [
    "def create_ensemble(N):\n",
    "    # Ensemble-Average\n",
    "    X = np.zeros((N,T))\n",
    "    X[:,0] = 0.1\n",
    "\n",
    "    mu = 0.0\n",
    "    sigma = 1.0\n",
    "    gamma = 0.1\n",
    "\n",
    "    np.random.seed(42)\n",
    "    \n",
    "    for i in range(N):\n",
    "        for t in range(1,T):\n",
    "            noise = np.random.normal(0, np.sqrt(2*dt))\n",
    "            X[i,t] = X[i,t-1] - gamma*dt*(X[i,t-1]-mu) + sigma*noise\n",
    "\n",
    "    return X"
   ]
  },
  {
   "cell_type": "code",
   "execution_count": 13,
   "id": "a66836b4-c2c3-4bb3-b770-30f831792160",
   "metadata": {},
   "outputs": [],
   "source": [
    "def ac_ensemble_average(X,tau):\n",
    "    N, T = X.shape\n",
    "\n",
    "    means = np.mean(X, axis=1, keepdims=True)\n",
    "    varsx = np.var(X, axis=1, keepdims=True)\n",
    "    Xc = X - means\n",
    "    \n",
    "    numeratori = np.sum(Xc[:, :T-tau]*Xc[:, tau:], axis=1)\n",
    "    denominatori = (T-tau)*varsx.flatten()\n",
    "    ac_tau = numeratori/denominatori\n",
    "\n",
    "    return np.mean(ac_tau), np.std(ac_tau)"
   ]
  },
  {
   "cell_type": "code",
   "execution_count": null,
   "id": "f34635d1-cfbc-431c-ae0f-4316237573d6",
   "metadata": {},
   "outputs": [],
   "source": [
    "N = 5\n",
    "\n",
    "while True:\n",
    "    X = create_ensemble(N)\n",
    "    ac_ens, d_ac_ens = ac_ensemble_average(X,tau)\n",
    "\n",
    "    if np.abs(ac_ens-ac_time) < d_ac_ens:\n",
    "        break\n",
    "\n",
    "    if N>100:\n",
    "        break\n",
    "\n",
    "    N = N+1\n",
    "\n",
    "print(N)\n",
    "print(f\"L'autocorrelazione ensemble-average è: {ac_ens:.6} pm {d_ac_ens:.6}\")"
   ]
  },
  {
   "cell_type": "code",
   "execution_count": null,
   "id": "8427a84e-1e82-4b0b-90cc-6210acbaac29",
   "metadata": {},
   "outputs": [],
   "source": [
    "plt.errorbar(1, ac_ens, d_ac_ens, fmt='o', capsize = 3)\n",
    "plt.scatter(2, ac_time)\n",
    "plt.show"
   ]
  }
 ],
 "metadata": {
  "kernelspec": {
   "display_name": "Python 3 (ipykernel)",
   "language": "python",
   "name": "python3"
  },
  "language_info": {
   "codemirror_mode": {
    "name": "ipython",
    "version": 3
   },
   "file_extension": ".py",
   "mimetype": "text/x-python",
   "name": "python",
   "nbconvert_exporter": "python",
   "pygments_lexer": "ipython3",
   "version": "3.13.2"
  }
 },
 "nbformat": 4,
 "nbformat_minor": 5
}

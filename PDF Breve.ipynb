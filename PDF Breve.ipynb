{
 "cells": [
  {
   "cell_type": "markdown",
   "id": "a163fba9-e472-4ecb-9c71-6a4d51ab0087",
   "metadata": {},
   "source": [
    "### PDF"
   ]
  },
  {
   "cell_type": "code",
   "execution_count": null,
   "id": "72b7631b-c8ca-4345-8dcc-632784aad37c",
   "metadata": {},
   "outputs": [],
   "source": [
    "nbin = 1000\n",
    "pdf_orig, bin_edges = np.histogram(x, bins=nbin, range=(-5,5), density=True)\n",
    "bin_center = (bin_edges[1:]+bin_edges[:-1])/2\n",
    "\n",
    "pdfs = np.zeros((N,T))\n",
    "for i in range(N):\n",
    "    pdfs[i], _ = np.histogram(X[i], bins=nbin, range=(-5,5), density=True)\n",
    "\n",
    "pdf_mean = np.mean(pdfs, axis=0)\n",
    "pdf_std = np.std(pdfs, axis=0)\n",
    "\n",
    "plt.figure(figsize=(10,6))\n",
    "plt.hist(x, bins=nbin, label='PDF originale', zorder=1, density=True)\n",
    "plt.plot(bin_centers, pdf_mean, label='Media PDF bootstrap', color='blue', zorder=5)\n",
    "plt.fill_between(bin_centers, pdf_mean - pdf_std, pdf_mean + pdf_std, color='red', alpha=0.3, label='±1 std', zorder=4)\n",
    "plt.xlabel('x')\n",
    "plt.ylabel('Densità')\n",
    "plt.title('PDF Originale vs Bootstrap')\n",
    "plt.legend()\n",
    "plt.grid(True)\n",
    "plt.tight_layout()\n",
    "plt.show()"
   ]
  }
 ],
 "metadata": {
  "kernelspec": {
   "display_name": "Python 3 (ipykernel)",
   "language": "python",
   "name": "python3"
  },
  "language_info": {
   "codemirror_mode": {
    "name": "ipython",
    "version": 3
   },
   "file_extension": ".py",
   "mimetype": "text/x-python",
   "name": "python",
   "nbconvert_exporter": "python",
   "pygments_lexer": "ipython3",
   "version": "3.13.2"
  }
 },
 "nbformat": 4,
 "nbformat_minor": 5
}

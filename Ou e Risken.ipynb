{
 "cells": [
  {
   "cell_type": "code",
   "execution_count": 1,
   "id": "148cac1e-b398-4229-af87-ecd0ee2cb4b9",
   "metadata": {},
   "outputs": [],
   "source": [
    "import numpy as np"
   ]
  },
  {
   "cell_type": "code",
   "execution_count": 3,
   "id": "9418503a-5bc1-43b4-881c-7c095f794921",
   "metadata": {},
   "outputs": [],
   "source": [
    "T = 10**5\n",
    "step = 10000\n",
    "dt = 1/step\n",
    "max_tau = 30\n",
    "taus = np.arange(0, max_tau+1)"
   ]
  },
  {
   "cell_type": "markdown",
   "id": "e89e7fc4-d6a5-4f64-b701-158c10bee585",
   "metadata": {},
   "source": [
    "### OU"
   ]
  },
  {
   "cell_type": "code",
   "execution_count": 10,
   "id": "a80d4ce5-6aee-4703-a207-8fb5c94024a1",
   "metadata": {},
   "outputs": [],
   "source": [
    "gamma = 0.1\n",
    "\n",
    "x = np.zeros(T)\n",
    "x[0] = 0.1\n",
    "\n",
    "for t in range(1, T):\n",
    "    noise = np.random.normal(0, np.sqrt(2))\n",
    "    x[t] = x[t-1] - gamma*x[t-1]*dt + np.sqrt(dt)*noise\n",
    "\n",
    "x_series = [x[t] for t in range(0,T,step)]"
   ]
  },
  {
   "cell_type": "markdown",
   "id": "3e137781-dde7-4d43-aae6-ad47c76b8996",
   "metadata": {},
   "source": [
    "### Risken"
   ]
  },
  {
   "cell_type": "code",
   "execution_count": 9,
   "id": "1129556d-7bdb-4aa6-b986-382ee4463b2b",
   "metadata": {},
   "outputs": [],
   "source": [
    "k = 0.5\n",
    "\n",
    "x = np.zeros(T)\n",
    "x[0] = 0.1\n",
    "\n",
    "for t in range(1, T):\n",
    "    noise = np.random.normal(0, np.sqrt(2))\n",
    "    if x[t-1] < 0:\n",
    "        x[t] = x[t-1] + k*noise*dt*np.sqrt(dt)\n",
    "    else:\n",
    "        x[t] = x[t-1] - k*noise*dt*np.sqrt(dt)\n",
    "\n",
    "x_series = [x[t] for t in range(0,T,step)]"
   ]
  }
 ],
 "metadata": {
  "kernelspec": {
   "display_name": "Python 3 (ipykernel)",
   "language": "python",
   "name": "python3"
  },
  "language_info": {
   "codemirror_mode": {
    "name": "ipython",
    "version": 3
   },
   "file_extension": ".py",
   "mimetype": "text/x-python",
   "name": "python",
   "nbconvert_exporter": "python",
   "pygments_lexer": "ipython3",
   "version": "3.13.2"
  }
 },
 "nbformat": 4,
 "nbformat_minor": 5
}

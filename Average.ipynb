{
 "cells": [
  {
   "cell_type": "markdown",
   "id": "e4918e1d-028b-4ae6-92df-dca1d12888c4",
   "metadata": {},
   "source": [
    "### Time Average"
   ]
  },
  {
   "cell_type": "code",
   "execution_count": 20,
   "id": "cfd178bd-f0ad-4d20-969e-504676540bac",
   "metadata": {},
   "outputs": [],
   "source": [
    "from numba import njit\n",
    "\n",
    "@njit\n",
    "def ac_time_average(x, max_tau):\n",
    "    T = len(x)\n",
    "    mean = np.mean(x)\n",
    "    var = np.var(x)\n",
    "    \n",
    "    ac = np.zeros(max_tau+1)\n",
    "\n",
    "    for tau in range(max_tau+1):\n",
    "        prod = (x[:T-tau] - mean) * (x[tau:] - mean)\n",
    "        ac[tau] = np.mean(prod) / var\n",
    "\n",
    "    return ac"
   ]
  },
  {
   "cell_type": "markdown",
   "id": "c7b12779-d3c0-41d6-bf95-1f9464b86eea",
   "metadata": {},
   "source": [
    "### Ensemble Average"
   ]
  },
  {
   "cell_type": "code",
   "execution_count": 11,
   "id": "8beec60f-b83c-4e19-8e68-d78c38c0e4f4",
   "metadata": {},
   "outputs": [],
   "source": [
    "def ac_ensemble_average(X, max_tau):\n",
    "    N, T = X.shape\n",
    "    ac = np.zeros(max_tau+1)\n",
    "    d_ac = np.zeros(max_tau+1)\n",
    "\n",
    "    means = np.mean(X, axis=1, keepdims=True)\n",
    "    varsx = np.var(X, axis=1, keepdims=True)\n",
    "    Xc = X - means\n",
    "\n",
    "    for tau in range(max_tau+1):\n",
    "        numeratori = np.sum(Xc[:,:T-tau]*Xc[:,tau:], axis=1)\n",
    "        denominatori = (T-tau)*varsx.flatten()\n",
    "        ac_tau = numeratori/denominatori\n",
    "        ac[tau] = np.mean(ac_tau)\n",
    "        d_ac[tau] = np.std(ac_tau)\n",
    "\n",
    "    return ac, d_ac"
   ]
  },
  {
   "cell_type": "markdown",
   "id": "43558a81-0bd8-45b8-95d8-54b4113faa5c",
   "metadata": {},
   "source": [
    "### Mixed Average"
   ]
  },
  {
   "cell_type": "code",
   "execution_count": 18,
   "id": "fa26588a-8bdb-4b57-a293-4c1e433cc049",
   "metadata": {},
   "outputs": [],
   "source": [
    "def ac_mixed_average(X, max_tau):\n",
    "    N, T = X.shape\n",
    "    ac_N = np.zeros((N, max_tau+1))\n",
    "\n",
    "    for i in range(N):\n",
    "        mean = np.mean(X[i,:])\n",
    "        var = np.var(X[i,:])\n",
    "        \n",
    "        for tau in range(max_tau+1):\n",
    "            prod = (X[i, :T-tau] - mean) * (X[i, tau:] - mean)\n",
    "            ac_N[i,tau]=np.mean(prod)/var\n",
    "\n",
    "    ac = np.mean(ac_N, axis=0)\n",
    "    d_ac = np.std(ac_N, axis=0)\n",
    "\n",
    "    return ac, d_ac"
   ]
  }
 ],
 "metadata": {
  "kernelspec": {
   "display_name": "Python 3 (ipykernel)",
   "language": "python",
   "name": "python3"
  },
  "language_info": {
   "codemirror_mode": {
    "name": "ipython",
    "version": 3
   },
   "file_extension": ".py",
   "mimetype": "text/x-python",
   "name": "python",
   "nbconvert_exporter": "python",
   "pygments_lexer": "ipython3",
   "version": "3.13.2"
  }
 },
 "nbformat": 4,
 "nbformat_minor": 5
}

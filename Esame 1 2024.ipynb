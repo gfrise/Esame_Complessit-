{
 "cells": [
  {
   "cell_type": "code",
   "execution_count": null,
   "id": "3634017d-f23c-4186-bf52-826a65d2437d",
   "metadata": {},
   "outputs": [],
   "source": [
    "import numpy as np\n",
    "import matplotlib.pyplot as plt\n",
    "from numba import njit\n",
    "\n",
    "np.random.seed(42)\n",
    "@njit\n",
    "def ou(T):\n",
    "    x = np.zeros(T)\n",
    "    x[0] = 0.1\n",
    "    for t in range(1,T):\n",
    "        noise = np.random.normal(0, np.sqrt(2))\n",
    "        x[t] = x[t-1] - gamma*x[t-1]*dt + dt*noise\n",
    "\n",
    "    return x\n",
    "T_tot = 10**5\n",
    "dt = 0.1\n",
    "T = int(T_tot/dt)\n",
    "gamma = 0.1\n",
    "\n",
    "x = ou(T)\n",
    "@njit\n",
    "def bootstrap(x,N):\n",
    "    X = np.zeros((N,T))\n",
    "    \n",
    "    for i in range(N):\n",
    "        for t in range(T):\n",
    "            idx = np.random.randint(0,T)\n",
    "            X[i,t] = x[idx]\n",
    "    \n",
    "    return X            \n",
    "N = 100\n",
    "X = bootstrap(x,N)\n",
    "nbin = 1000\n",
    "pdf_orig, bin_edges = np.histogram(x, bins=nbin, range=(-5,5), density=True)\n",
    "bin_centers = (bin_edges[:-1] + bin_edges[1:])*0.5\n",
    "\n",
    "pdfs = np.zeros((N, nbin))\n",
    "for i in range(N):\n",
    "    pdfs[i], _ = np.histogram(X[i], bins=nbin, range=(-5,5), density=True)\n",
    "\n",
    "pdf_mean = np.mean(pdfs, axis=0)\n",
    "pdf_std = np.std(pdfs, axis=0)\n",
    "\n",
    "plt.figure(figsize=(10,6))\n",
    "plt.hist(x, bins=nbin, label='PDF originale', zorder=1, density=True)\n",
    "plt.plot(bin_centers, pdf_mean, label='Media PDF bootstrap', color='blue', zorder=5)\n",
    "plt.fill_between(bin_centers, pdf_mean - pdf_std, pdf_mean + pdf_std, color='red', alpha=0.3, label='±1 std', zorder=4)\n",
    "plt.xlabel('x')\n",
    "plt.ylabel('Densità')\n",
    "plt.title('PDF Originale vs Bootstrap')\n",
    "plt.legend()\n",
    "plt.grid(True)\n",
    "plt.tight_layout()\n",
    "plt.show()"
   ]
  }
 ],
 "metadata": {
  "kernelspec": {
   "display_name": "Python 3 (ipykernel)",
   "language": "python",
   "name": "python3"
  },
  "language_info": {
   "codemirror_mode": {
    "name": "ipython",
    "version": 3
   },
   "file_extension": ".py",
   "mimetype": "text/x-python",
   "name": "python",
   "nbconvert_exporter": "python",
   "pygments_lexer": "ipython3",
   "version": "3.13.2"
  }
 },
 "nbformat": 4,
 "nbformat_minor": 5
}

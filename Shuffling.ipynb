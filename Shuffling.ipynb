{
 "cells": [
  {
   "cell_type": "markdown",
   "id": "77d7e29d-3b88-4337-93f2-a39f52381a66",
   "metadata": {},
   "source": [
    "# Shuffling"
   ]
  },
  {
   "cell_type": "code",
   "execution_count": 43,
   "id": "08900d5e-11b7-43a7-87c0-0f932a3a0c3b",
   "metadata": {},
   "outputs": [],
   "source": [
    "import numpy as np\n",
    "import random"
   ]
  },
  {
   "cell_type": "code",
   "execution_count": 64,
   "id": "417b7486-caad-46bf-85a4-7b3d25ced363",
   "metadata": {},
   "outputs": [
    {
     "name": "stdout",
     "output_type": "stream",
     "text": [
      "[ 1  2  3  4  5  6  7  8  9 10]\n"
     ]
    }
   ],
   "source": [
    "np.random.seed(42)\n",
    "\n",
    "#Float\n",
    "x = np.random.uniform(1,101,10)\n",
    "\n",
    "# Interi\n",
    "x = np.random.randint(1,101,10, dtype=int) #[1,101) - 10 numeri\n",
    "\n",
    "# Interi ordinati\n",
    "x = np.arange(1,11)\n",
    "\n",
    "print(x)"
   ]
  },
  {
   "cell_type": "markdown",
   "id": "67c393b7-a70b-4ddc-8816-042ac3036edb",
   "metadata": {},
   "source": [
    "### Bootstrap\n",
    "E' uno shuffling senza rimpiazzi"
   ]
  },
  {
   "cell_type": "code",
   "execution_count": 65,
   "id": "935eb1ad-c0ae-4f05-bed6-a05e797686e2",
   "metadata": {},
   "outputs": [
    {
     "name": "stdout",
     "output_type": "stream",
     "text": [
      "[ 7.  4.  8.  5.  7. 10.  3.  7.  8.  5.]\n"
     ]
    }
   ],
   "source": [
    "np.random.seed(42)\n",
    "n = len(x)\n",
    "x_b = np.zeros(n)\n",
    "\n",
    "for i in range(n):\n",
    "    j = np.random.randint(0, n)\n",
    "    x_b[i] = x[j]\n",
    "\n",
    "# Oppure\n",
    "# x_b = np.random.choice(x, size=n, replace=True)\n",
    "\n",
    "print(x_b)"
   ]
  },
  {
   "cell_type": "markdown",
   "id": "274cc03d-961e-4b10-9eaf-8b5e54de79e3",
   "metadata": {},
   "source": [
    "### Durstenfeld\n",
    "E' un ottimizzazione del metodo Fisher-Yates. Parte dal primo elemento e va verso l'ultimo. Ad ogni iterazione scambia con un elemento compreso tra i ed N"
   ]
  },
  {
   "cell_type": "code",
   "execution_count": 58,
   "id": "304d95a0-69ec-47b6-8d99-88a1b3b9167e",
   "metadata": {},
   "outputs": [
    {
     "name": "stdout",
     "output_type": "stream",
     "text": [
      "[ 7  5  1 10  3  4  2  6  8  9]\n"
     ]
    }
   ],
   "source": [
    "np.random.seed(42)\n",
    "n = len(x)\n",
    "x_d = x.copy()\n",
    "\n",
    "for i in range(0, n-1): # si ferma al penultimo\n",
    "    j = np.random.randint(i,n) # i incluso\n",
    "    temp = x_d[i]\n",
    "    x_d[i] = x_d[j]\n",
    "    x_d[j] = temp\n",
    "\n",
    "print(x_d)"
   ]
  },
  {
   "cell_type": "markdown",
   "id": "04a740ba-0c27-4c6e-9dde-2161ada247a6",
   "metadata": {},
   "source": [
    "### Sattolo\n",
    "Come Durstenfeld ma non consente ripetizioni"
   ]
  },
  {
   "cell_type": "code",
   "execution_count": 62,
   "id": "bbfe01d3-062c-48d3-a8ff-b7ce15ca08ea",
   "metadata": {},
   "outputs": [
    {
     "name": "stdout",
     "output_type": "stream",
     "text": [
      "[ 8  6  1  7 10  4  5  2  3  9]\n"
     ]
    }
   ],
   "source": [
    "np.random.seed(42)\n",
    "n = len(x)\n",
    "x_s = x.copy()\n",
    "\n",
    "for i in range(0, n-1):\n",
    "    j = np.random.randint(i+1, n) # i non incluso\n",
    "    temp = x_s[i]\n",
    "    x_s[i] = x_s[j]\n",
    "    x_s[j] = temp\n",
    "\n",
    "print(x_s)"
   ]
  },
  {
   "cell_type": "markdown",
   "id": "bb32f86a-9eb5-40dd-97ff-c26ff3e84ea7",
   "metadata": {},
   "source": [
    "### Naive\n",
    "Mescola casualmente, introduce un bias statistico"
   ]
  },
  {
   "cell_type": "code",
   "execution_count": 68,
   "id": "b70fe19e-197b-4475-86e2-e5d7bd712d6f",
   "metadata": {},
   "outputs": [
    {
     "name": "stdout",
     "output_type": "stream",
     "text": [
      "[ 7  4  2  5  6 10  3  9  8  1]\n"
     ]
    }
   ],
   "source": [
    "np.random.seed(42)\n",
    "n = len(x)\n",
    "x_n = x.copy()\n",
    "\n",
    "for i in range(n):\n",
    "    j = np.random.randint(0, n)\n",
    "    temp = x_n[i]\n",
    "    x_n[i] = x_n[j]\n",
    "    x_n[j] = temp\n",
    "\n",
    "print(x_n)"
   ]
  }
 ],
 "metadata": {
  "kernelspec": {
   "display_name": "Python 3 (ipykernel)",
   "language": "python",
   "name": "python3"
  },
  "language_info": {
   "codemirror_mode": {
    "name": "ipython",
    "version": 3
   },
   "file_extension": ".py",
   "mimetype": "text/x-python",
   "name": "python",
   "nbconvert_exporter": "python",
   "pygments_lexer": "ipython3",
   "version": "3.13.2"
  }
 },
 "nbformat": 4,
 "nbformat_minor": 5
}

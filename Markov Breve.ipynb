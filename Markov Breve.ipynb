{
 "cells": [
  {
   "cell_type": "code",
   "execution_count": 5,
   "id": "c9571377-730c-4e2d-b94c-3e55869e81df",
   "metadata": {},
   "outputs": [],
   "source": [
    "import numpy as np\n",
    "import matplotlib.pyplot as plt\n",
    "from scipy.linalg import eig"
   ]
  },
  {
   "cell_type": "code",
   "execution_count": 6,
   "id": "c1f47c0e-2b63-4203-b8ea-86a1f4755102",
   "metadata": {},
   "outputs": [],
   "source": [
    "P = np.array([[0.9,0.1],\n",
    "              [0.1,0.9]])"
   ]
  },
  {
   "cell_type": "code",
   "execution_count": 8,
   "id": "0ca9db03-70f3-4e50-9862-5d14a133e614",
   "metadata": {},
   "outputs": [
    {
     "name": "stdout",
     "output_type": "stream",
     "text": [
      "0.8\n"
     ]
    }
   ],
   "source": [
    "eigvals = np.linalg.eigvals(P)\n",
    "eigvals = np.sort(np.abs(eigvals))[::-1]\n",
    "\n",
    "print(eigvals[1])"
   ]
  },
  {
   "cell_type": "code",
   "execution_count": 13,
   "id": "6463500e-1342-40a5-83cc-9c32b1847441",
   "metadata": {},
   "outputs": [
    {
     "name": "stdout",
     "output_type": "stream",
     "text": [
      "[0.50576461 0.49423539]\n"
     ]
    }
   ],
   "source": [
    "pi0 = [1.0, 0.0]\n",
    "\n",
    "T = 20\n",
    "pi = np.zeros((T+1, len(pi0)))\n",
    "pi[0] = pi0\n",
    "\n",
    "for t in range(1,T+1):\n",
    "    pi[t] = pi[t-1]@P\n",
    "\n",
    "print(pi[T])"
   ]
  },
  {
   "cell_type": "code",
   "execution_count": 17,
   "id": "59a17587-4500-4993-b4cf-79c4aaec7d75",
   "metadata": {},
   "outputs": [
    {
     "name": "stdout",
     "output_type": "stream",
     "text": [
      "[0.5 0.5]\n"
     ]
    }
   ],
   "source": [
    "w,v = eig(P.T)\n",
    "stationary = v[:, np.isclose(w, 1)]\n",
    "stationary = stationary[:,0].real\n",
    "stationary /= stationary.sum()\n",
    "\n",
    "print(stationary)"
   ]
  }
 ],
 "metadata": {
  "kernelspec": {
   "display_name": "Python 3 (ipykernel)",
   "language": "python",
   "name": "python3"
  },
  "language_info": {
   "codemirror_mode": {
    "name": "ipython",
    "version": 3
   },
   "file_extension": ".py",
   "mimetype": "text/x-python",
   "name": "python",
   "nbconvert_exporter": "python",
   "pygments_lexer": "ipython3",
   "version": "3.13.2"
  }
 },
 "nbformat": 4,
 "nbformat_minor": 5
}

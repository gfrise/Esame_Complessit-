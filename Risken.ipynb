{
 "cells": [
  {
   "cell_type": "markdown",
   "id": "b7258657-96a4-4549-8cd3-af91b1e94f9a",
   "metadata": {},
   "source": [
    "# Risken"
   ]
  },
  {
   "cell_type": "code",
   "execution_count": 3,
   "id": "2826ed80-f6d5-4b9e-8331-a384c8c2b678",
   "metadata": {},
   "outputs": [],
   "source": [
    "import numpy as np\n",
    "import matplotlib.pyplot as plt"
   ]
  },
  {
   "cell_type": "code",
   "execution_count": 4,
   "id": "70c60fe3-3dc2-4d7e-937d-5968e1dac92f",
   "metadata": {},
   "outputs": [],
   "source": [
    "T = 10**5\n",
    "dt = 1.0 # Passso temporale\n",
    "max_tau = 30 # Lag per autocorrelazione\n",
    "taus = np.arange(0, max_tau+1)\n",
    "\n",
    "x = np.zeros(T)\n",
    "x[0] = 0.1 # Valore iniziale"
   ]
  },
  {
   "cell_type": "code",
   "execution_count": 5,
   "id": "a32f9b95-11da-4d3a-87cf-0392a37dea6d",
   "metadata": {},
   "outputs": [],
   "source": [
    "k = 0.5\n",
    "\n",
    "for t in range(1, T):\n",
    "    noise = np.random.normal(0, np.sqrt(2))\n",
    "    if x[t-1] < 0:\n",
    "        x[t] = x[t-1] +k*dt + np.sqrt(dt)*noise\n",
    "    else:\n",
    "        x[t] = x[t-1] -k*dt + np.sqrt(dt)*noise"
   ]
  }
 ],
 "metadata": {
  "kernelspec": {
   "display_name": "Python 3 (ipykernel)",
   "language": "python",
   "name": "python3"
  },
  "language_info": {
   "codemirror_mode": {
    "name": "ipython",
    "version": 3
   },
   "file_extension": ".py",
   "mimetype": "text/x-python",
   "name": "python",
   "nbconvert_exporter": "python",
   "pygments_lexer": "ipython3",
   "version": "3.13.2"
  }
 },
 "nbformat": 4,
 "nbformat_minor": 5
}
